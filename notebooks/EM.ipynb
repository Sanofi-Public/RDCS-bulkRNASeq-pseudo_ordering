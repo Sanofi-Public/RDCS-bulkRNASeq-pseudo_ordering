{
 "cells": [
  {
   "cell_type": "markdown",
   "metadata": {},
   "source": [
    "# Declare Global Parameters"
   ]
  },
  {
   "cell_type": "code",
   "execution_count": 4,
   "metadata": {},
   "outputs": [],
   "source": [
    "# Define Weights\n",
    "gene_expression_weight = 0.92\n",
    "clinical_sd_weight = 0.00\n",
    "clinical_corr_weight = 0.08\n",
    "\n",
    "# Locations of Files\n",
    "input_filename = (\n",
    "    \"~/oneai-rnd-mdm-pseudo_ordering/input_output/dataset_forPseudoOrdering.tsv\"\n",
    ")\n",
    "clinical_info_file = (\n",
    "    \"~/oneai-rnd-mdm-pseudo_ordering/input_output/gse193309_clinicaldata.tsv\"\n",
    ")\n",
    "output_filename = (\n",
    "    \"~/oneai-rnd-mdm-pseudo_ordering/input_output/output_pseudoOrdering.tsv\"\n",
    ")"
   ]
  },
  {
   "cell_type": "markdown",
   "metadata": {
    "application/vnd.databricks.v1+cell": {
     "cellMetadata": {},
     "inputWidgets": {},
     "nuid": "7eb05757-48e8-4281-ab36-ff644e7ab37a",
     "showTitle": false,
     "title": ""
    }
   },
   "source": [
    "# Libraries"
   ]
  },
  {
   "cell_type": "code",
   "execution_count": 5,
   "metadata": {
    "application/vnd.databricks.v1+cell": {
     "cellMetadata": {},
     "inputWidgets": {},
     "nuid": "11918058-bd69-4157-b89a-1b88aa31d6bd",
     "showTitle": false,
     "title": ""
    }
   },
   "outputs": [],
   "source": [
    "import random\n",
    "import sys\n",
    "import math\n",
    "from scipy.stats import norm\n",
    "import pandas as pd\n",
    "import matplotlib.pyplot as plt\n",
    "import numpy as np\n",
    "\n",
    "from sklearn.preprocessing import PolynomialFeatures\n",
    "\n",
    "pd.set_option(\"display.max_rows\", 600)\n",
    "\n",
    "import warnings\n",
    "\n",
    "warnings.filterwarnings(\"ignore\")\n",
    "\n"
   ]
  },
  {
   "cell_type": "markdown",
   "metadata": {
    "application/vnd.databricks.v1+cell": {
     "cellMetadata": {},
     "inputWidgets": {},
     "nuid": "b98b4d65-6473-4d02-ac77-fc6171e06a4a",
     "showTitle": false,
     "title": ""
    }
   },
   "source": [
    "# Import Class"
   ]
  },
  {
   "cell_type": "code",
   "execution_count": 6,
   "metadata": {},
   "outputs": [],
   "source": [
    "sys.path.insert(0, \"../src/\")\n",
    "from utils.utils_pseudo_ordering import pseudo_ordering\n",
    "\n",
    "func = pseudo_ordering()"
   ]
  },
  {
   "cell_type": "markdown",
   "metadata": {
    "application/vnd.databricks.v1+cell": {
     "cellMetadata": {},
     "inputWidgets": {},
     "nuid": "485ab878-8b0f-4305-9403-fc045539e3a9",
     "showTitle": false,
     "title": ""
    }
   },
   "source": [
    "# Data"
   ]
  },
  {
   "cell_type": "markdown",
   "metadata": {
    "application/vnd.databricks.v1+cell": {
     "cellMetadata": {},
     "inputWidgets": {},
     "nuid": "be70fbd0-5aad-4f50-b2b2-0865e7afc298",
     "showTitle": false,
     "title": ""
    }
   },
   "source": [
    "## Clinical Info"
   ]
  },
  {
   "cell_type": "code",
   "execution_count": 7,
   "metadata": {
    "application/vnd.databricks.v1+cell": {
     "cellMetadata": {},
     "inputWidgets": {},
     "nuid": "67def6f2-4216-40e8-b43d-7aec63ed850f",
     "showTitle": false,
     "title": ""
    }
   },
   "outputs": [
    {
     "data": {
      "text/html": [
       "<div>\n",
       "<style scoped>\n",
       "    .dataframe tbody tr th:only-of-type {\n",
       "        vertical-align: middle;\n",
       "    }\n",
       "\n",
       "    .dataframe tbody tr th {\n",
       "        vertical-align: top;\n",
       "    }\n",
       "\n",
       "    .dataframe thead th {\n",
       "        text-align: right;\n",
       "    }\n",
       "</style>\n",
       "<table border=\"1\" class=\"dataframe\">\n",
       "  <thead>\n",
       "    <tr style=\"text-align: right;\">\n",
       "      <th></th>\n",
       "      <th>samples</th>\n",
       "      <th>clinical_score</th>\n",
       "    </tr>\n",
       "  </thead>\n",
       "  <tbody>\n",
       "    <tr>\n",
       "      <th>0</th>\n",
       "      <td>AD_02_vis01</td>\n",
       "      <td>48.0</td>\n",
       "    </tr>\n",
       "    <tr>\n",
       "      <th>1</th>\n",
       "      <td>AD_02_vis02</td>\n",
       "      <td>15.5</td>\n",
       "    </tr>\n",
       "    <tr>\n",
       "      <th>2</th>\n",
       "      <td>AD_02_vis03</td>\n",
       "      <td>23.4</td>\n",
       "    </tr>\n",
       "    <tr>\n",
       "      <th>3</th>\n",
       "      <td>AD_02_vis04</td>\n",
       "      <td>25.8</td>\n",
       "    </tr>\n",
       "    <tr>\n",
       "      <th>4</th>\n",
       "      <td>AD_02_vis05</td>\n",
       "      <td>23.9</td>\n",
       "    </tr>\n",
       "  </tbody>\n",
       "</table>\n",
       "</div>"
      ],
      "text/plain": [
       "       samples  clinical_score\n",
       "0  AD_02_vis01            48.0\n",
       "1  AD_02_vis02            15.5\n",
       "2  AD_02_vis03            23.4\n",
       "3  AD_02_vis04            25.8\n",
       "4  AD_02_vis05            23.9"
      ]
     },
     "execution_count": 7,
     "metadata": {},
     "output_type": "execute_result"
    }
   ],
   "source": [
    "df_nb = pd.read_csv(clinical_info_file, sep=\"\\t\")\n",
    "df_nb.head()"
   ]
  },
  {
   "cell_type": "markdown",
   "metadata": {
    "application/vnd.databricks.v1+cell": {
     "cellMetadata": {},
     "inputWidgets": {},
     "nuid": "e6347312-1424-480f-b14d-f92740a006da",
     "showTitle": false,
     "title": ""
    }
   },
   "source": [
    "## Read Gene Expression Data"
   ]
  },
  {
   "cell_type": "code",
   "execution_count": 8,
   "metadata": {
    "application/vnd.databricks.v1+cell": {
     "cellMetadata": {},
     "inputWidgets": {},
     "nuid": "8353f919-627c-4b20-ba7b-b4c344832f81",
     "showTitle": false,
     "title": ""
    }
   },
   "outputs": [
    {
     "data": {
      "text/html": [
       "<div>\n",
       "<style scoped>\n",
       "    .dataframe tbody tr th:only-of-type {\n",
       "        vertical-align: middle;\n",
       "    }\n",
       "\n",
       "    .dataframe tbody tr th {\n",
       "        vertical-align: top;\n",
       "    }\n",
       "\n",
       "    .dataframe thead th {\n",
       "        text-align: right;\n",
       "    }\n",
       "</style>\n",
       "<table border=\"1\" class=\"dataframe\">\n",
       "  <thead>\n",
       "    <tr style=\"text-align: right;\">\n",
       "      <th></th>\n",
       "      <th>Geneid</th>\n",
       "      <th>AD_13_vis03</th>\n",
       "      <th>AD_25_vis03</th>\n",
       "      <th>AD_06_vis05</th>\n",
       "      <th>AD_06_vis04</th>\n",
       "      <th>AD_17_vis02</th>\n",
       "      <th>AD_25_vis04</th>\n",
       "      <th>AD_13_vis05</th>\n",
       "      <th>AD_15_vis04</th>\n",
       "      <th>AD_13_vis01</th>\n",
       "      <th>...</th>\n",
       "      <th>AD_23_vis01</th>\n",
       "      <th>AD_08_vis01</th>\n",
       "      <th>AD_07_vis01</th>\n",
       "      <th>AD_13_vis04</th>\n",
       "      <th>AD_26_vis01</th>\n",
       "      <th>AD_25_vis02</th>\n",
       "      <th>AD_16_vis04</th>\n",
       "      <th>AD_03_vis01</th>\n",
       "      <th>AD_22_vis05</th>\n",
       "      <th>AD_09_vis01</th>\n",
       "    </tr>\n",
       "  </thead>\n",
       "  <tbody>\n",
       "    <tr>\n",
       "      <th>0</th>\n",
       "      <td>FAM41C</td>\n",
       "      <td>-2.651368</td>\n",
       "      <td>-5.513242</td>\n",
       "      <td>-5.247777</td>\n",
       "      <td>-5.230043</td>\n",
       "      <td>-5.824341</td>\n",
       "      <td>-1.395987</td>\n",
       "      <td>-3.088146</td>\n",
       "      <td>-5.442751</td>\n",
       "      <td>-5.691213</td>\n",
       "      <td>...</td>\n",
       "      <td>-5.244720</td>\n",
       "      <td>-5.408114</td>\n",
       "      <td>-1.727310</td>\n",
       "      <td>-1.392411</td>\n",
       "      <td>-0.089998</td>\n",
       "      <td>-1.620567</td>\n",
       "      <td>-5.301667</td>\n",
       "      <td>-5.020314</td>\n",
       "      <td>-2.777684</td>\n",
       "      <td>-5.425776</td>\n",
       "    </tr>\n",
       "    <tr>\n",
       "      <th>1</th>\n",
       "      <td>SAMD11</td>\n",
       "      <td>1.282744</td>\n",
       "      <td>-0.383959</td>\n",
       "      <td>-1.340887</td>\n",
       "      <td>-1.323153</td>\n",
       "      <td>-5.824341</td>\n",
       "      <td>0.188975</td>\n",
       "      <td>-0.280791</td>\n",
       "      <td>-5.442751</td>\n",
       "      <td>-0.136624</td>\n",
       "      <td>...</td>\n",
       "      <td>-2.074795</td>\n",
       "      <td>-1.015797</td>\n",
       "      <td>-0.328761</td>\n",
       "      <td>-0.830532</td>\n",
       "      <td>0.995393</td>\n",
       "      <td>2.286323</td>\n",
       "      <td>-2.979739</td>\n",
       "      <td>-2.212959</td>\n",
       "      <td>-0.540645</td>\n",
       "      <td>-1.725336</td>\n",
       "    </tr>\n",
       "  </tbody>\n",
       "</table>\n",
       "<p>2 rows × 46 columns</p>\n",
       "</div>"
      ],
      "text/plain": [
       "   Geneid  AD_13_vis03  AD_25_vis03  AD_06_vis05  AD_06_vis04  AD_17_vis02  \\\n",
       "0  FAM41C    -2.651368    -5.513242    -5.247777    -5.230043    -5.824341   \n",
       "1  SAMD11     1.282744    -0.383959    -1.340887    -1.323153    -5.824341   \n",
       "\n",
       "   AD_25_vis04  AD_13_vis05  AD_15_vis04  AD_13_vis01  ...  AD_23_vis01  \\\n",
       "0    -1.395987    -3.088146    -5.442751    -5.691213  ...    -5.244720   \n",
       "1     0.188975    -0.280791    -5.442751    -0.136624  ...    -2.074795   \n",
       "\n",
       "   AD_08_vis01  AD_07_vis01  AD_13_vis04  AD_26_vis01  AD_25_vis02  \\\n",
       "0    -5.408114    -1.727310    -1.392411    -0.089998    -1.620567   \n",
       "1    -1.015797    -0.328761    -0.830532     0.995393     2.286323   \n",
       "\n",
       "   AD_16_vis04  AD_03_vis01  AD_22_vis05  AD_09_vis01  \n",
       "0    -5.301667    -5.020314    -2.777684    -5.425776  \n",
       "1    -2.979739    -2.212959    -0.540645    -1.725336  \n",
       "\n",
       "[2 rows x 46 columns]"
      ]
     },
     "execution_count": 8,
     "metadata": {},
     "output_type": "execute_result"
    }
   ],
   "source": [
    "df0 = pd.read_csv(input_filename, sep=\"\\t\")\n",
    "# Removing the outlier sample\n",
    "df0.drop([\"AD_27_vis01\"], axis=1, inplace=True)\n",
    "df = df0.drop(columns=[\"Geneid\"])\n",
    "df = df.apply(pd.to_numeric)\n",
    "df0.head(2)"
   ]
  },
  {
   "cell_type": "markdown",
   "metadata": {
    "application/vnd.databricks.v1+cell": {
     "cellMetadata": {},
     "inputWidgets": {},
     "nuid": "8d90011a-7727-49bc-ad25-456ae783eccf",
     "showTitle": false,
     "title": ""
    }
   },
   "source": [
    "# Initial Sample Ordering"
   ]
  },
  {
   "cell_type": "code",
   "execution_count": 9,
   "metadata": {},
   "outputs": [
    {
     "name": "stdout",
     "output_type": "stream",
     "text": [
      "45\n",
      "['AD_13_vis02', 'AD_29_vis01', 'AD_06_vis03', 'AD_11_vis02', 'AD_02_vis03', 'AD_13_vis03', 'AD_07_vis01', 'AD_08_vis01', 'AD_22_vis05', 'AD_16_vis04', 'AD_06_vis05', 'AD_04_vis01', 'AD_13_vis01', 'AD_24_vis01', 'AD_02_vis02', 'AD_25_vis02', 'AD_15_vis04', 'AD_17_vis02', 'AD_25_vis01', 'AD_06_vis01', 'AD_09_vis01', 'AD_23_vis02', 'AD_16_vis01', 'AD_02_vis01', 'AD_16_vis02', 'AD_15_vis05', 'AD_23_vis01', 'AD_25_vis04', 'AD_09_vis02', 'AD_15_vis03', 'AD_06_vis02', 'AD_13_vis04', 'AD_14_vis01', 'AD_03_vis01', 'AD_26_vis01', 'AD_30_vis01', 'AD_11_vis01', 'AD_25_vis03', 'AD_02_vis04', 'AD_02_vis05', 'AD_06_vis04', 'AD_13_vis05', 'AD_23_vis03', 'AD_16_vis03', 'AD_16_vis05']\n"
     ]
    }
   ],
   "source": [
    "# Common samples between gene expression and clinical data\n",
    "sampleNames = list(set(df.columns))\n",
    "sampleNames = list(set(sampleNames) & set(df_nb[\"samples\"]))\n",
    "\n",
    "# Filter Clinical Data \n",
    "df_nb = df_nb[df_nb[\"samples\"].isin(sampleNames)]\n",
    "\n",
    "print(len(sampleNames))\n",
    "print(sampleNames)"
   ]
  },
  {
   "cell_type": "code",
   "execution_count": 10,
   "metadata": {
    "application/vnd.databricks.v1+cell": {
     "cellMetadata": {},
     "inputWidgets": {},
     "nuid": "ef43ef9c-c7a5-496b-8bd4-0232e6968430",
     "showTitle": false,
     "title": ""
    }
   },
   "outputs": [
    {
     "name": "stdout",
     "output_type": "stream",
     "text": [
      "['AD_29_vis01', 'AD_07_vis01', 'AD_08_vis01', 'AD_04_vis01', 'AD_13_vis01', 'AD_24_vis01', 'AD_25_vis01', 'AD_06_vis01', 'AD_09_vis01', 'AD_16_vis01', 'AD_02_vis01', 'AD_23_vis01', 'AD_14_vis01', 'AD_03_vis01', 'AD_26_vis01', 'AD_30_vis01', 'AD_11_vis01', 'AD_13_vis02', 'AD_11_vis02', 'AD_02_vis02', 'AD_25_vis02', 'AD_17_vis02', 'AD_23_vis02', 'AD_16_vis02', 'AD_09_vis02', 'AD_06_vis02', 'AD_06_vis03', 'AD_02_vis03', 'AD_13_vis03', 'AD_15_vis03', 'AD_25_vis03', 'AD_23_vis03', 'AD_16_vis03', 'AD_16_vis04', 'AD_15_vis04', 'AD_25_vis04', 'AD_13_vis04', 'AD_02_vis04', 'AD_06_vis04', 'AD_22_vis05', 'AD_06_vis05', 'AD_15_vis05', 'AD_02_vis05', 'AD_13_vis05', 'AD_16_vis05']\n",
      "(4576, 45)\n"
     ]
    }
   ],
   "source": [
    "# Initial sample ordering by visit\n",
    "## This is to build indexes for each patient and obtain chronology of samples\n",
    "smp_order_init = (\n",
    "    [x for x in sampleNames if x.endswith(\"vis01\")]\n",
    "    + [x for x in sampleNames if x.endswith(\"vis02\")]\n",
    "    + [x for x in sampleNames if x.endswith(\"vis03\")]\n",
    "    + [x for x in sampleNames if x.endswith(\"vis04\")]\n",
    "    + [x for x in sampleNames if x.endswith(\"vis05\")]\n",
    "    + [x for x in sampleNames if x.endswith(\"vis06\")]\n",
    ")\n",
    "print(smp_order_init)\n",
    "df_gex = df.reindex(columns=smp_order_init)\n",
    "print(df_gex.shape)"
   ]
  },
  {
   "cell_type": "markdown",
   "metadata": {
    "application/vnd.databricks.v1+cell": {
     "cellMetadata": {},
     "inputWidgets": {},
     "nuid": "2146d44e-395e-4c00-ba5c-0753abcf1ddf",
     "showTitle": false,
     "title": ""
    }
   },
   "source": [
    "# Patient Indicies"
   ]
  },
  {
   "cell_type": "code",
   "execution_count": 11,
   "metadata": {
    "application/vnd.databricks.v1+cell": {
     "cellMetadata": {},
     "inputWidgets": {},
     "nuid": "f862cc3a-de3d-4af4-aed8-a9419384954a",
     "showTitle": false,
     "title": ""
    }
   },
   "outputs": [],
   "source": [
    "samples = list(df_gex.columns)\n",
    "ind0, ante_pt, con_pt = func.patient_index(samples, patient_delimter_loc=2)\n",
    "\n",
    "num_samples = df_gex.shape[1]\n",
    "\n",
    "weights = {\n",
    "    \"gene_expression_weight\": gene_expression_weight,\n",
    "    \"clinical_sd_weight\": clinical_sd_weight,\n",
    "    \"clinical_corr_weight\": clinical_corr_weight,\n",
    "}\n",
    "\n",
    "indices = {\"index_init\": ind0, \"index_antecedent\": ante_pt, \"index_consequent\": con_pt}"
   ]
  },
  {
   "cell_type": "code",
   "execution_count": 12,
   "metadata": {},
   "outputs": [],
   "source": [
    "# Verify Patient Antecedent and Consequent\n",
    "# ind0\n",
    "# ante_pt\n",
    "# con_pt"
   ]
  },
  {
   "cell_type": "markdown",
   "metadata": {
    "application/vnd.databricks.v1+cell": {
     "cellMetadata": {},
     "inputWidgets": {},
     "nuid": "f5790afc-7935-4369-9a15-09e2d216cfc3",
     "showTitle": false,
     "title": ""
    }
   },
   "source": [
    "# EM"
   ]
  },
  {
   "cell_type": "markdown",
   "metadata": {},
   "source": [
    "# With Clinical Scores"
   ]
  },
  {
   "cell_type": "code",
   "execution_count": null,
   "metadata": {},
   "outputs": [],
   "source": [
    "(\n",
    "    rmse_err_min,\n",
    "    rmse_err_list,\n",
    "    z_list,\n",
    "    smp_ord_list,\n",
    "    coefs_list,\n",
    ") = func.em_with_clinical_correlation(\n",
    "    indices, num_samples, df_gex, df_nb, weights, num_init=20, num_iter=20\n",
    ")\n"
   ]
  },
  {
   "cell_type": "markdown",
   "metadata": {},
   "source": [
    "## Only Gene Expression"
   ]
  },
  {
   "cell_type": "code",
   "execution_count": null,
   "metadata": {},
   "outputs": [],
   "source": [
    "# rmse_err_min, rmse_err_list, z_list, smp_ord_list, coefs_list = func.em_onlygex(indices, num_samples, df_gex, num_init=10, num_iter=20)"
   ]
  },
  {
   "cell_type": "markdown",
   "metadata": {
    "application/vnd.databricks.v1+cell": {
     "cellMetadata": {},
     "inputWidgets": {},
     "nuid": "ddd57289-0047-49b2-889a-9730a4d81ca6",
     "showTitle": false,
     "title": ""
    }
   },
   "source": [
    "# Plot RMSE & Clinical Scores"
   ]
  },
  {
   "cell_type": "code",
   "execution_count": null,
   "metadata": {
    "application/vnd.databricks.v1+cell": {
     "cellMetadata": {},
     "inputWidgets": {},
     "nuid": "90f29ecf-c205-4f0d-ba96-005d962d49d6",
     "showTitle": false,
     "title": ""
    }
   },
   "outputs": [],
   "source": [
    "plt.figure(figsize=(15, 10))\n",
    "for i in range(len(rmse_err_list)):\n",
    "    l = \"z_\" + str(i)\n",
    "    plt.plot(rmse_err_list[i], label=l)\n",
    "plt.xlabel(\"# Iterations\")\n",
    "plt.ylabel(\"RMSE\")\n",
    "plt.legend()\n",
    "plt.show()"
   ]
  },
  {
   "cell_type": "markdown",
   "metadata": {
    "application/vnd.databricks.v1+cell": {
     "cellMetadata": {},
     "inputWidgets": {},
     "nuid": "3790375c-05f2-44b1-b25a-59033623e768",
     "showTitle": false,
     "title": ""
    }
   },
   "source": [
    "# Sample Ordering"
   ]
  },
  {
   "cell_type": "code",
   "execution_count": null,
   "metadata": {},
   "outputs": [],
   "source": [
    "# Choose sample ordering using the least RMSE score\n",
    "\n",
    "#min_index = rmse_selected.index(min(rmse_selected))\n",
    "#print(\"Minimum RMSE Index:{}, RMSE:{}\".format(min_index, rmse_selected[min_index]))\n",
    "\n",
    "# When using only gene expression, use the below commented code\n",
    "min_index = rmse_err_min.index(min(rmse_err_min))\n",
    "print(\"RMSE: \", rmse_err_min[min_index])\n",
    "print(\"Sample Ordering at minimum Index:\", smp_ord_list[min_index])\n",
    "print(\"Pseudo Ordering Vector (Z-Vector) at Minimum Index:\", z_list[min_index])\n",
    "smp_order = smp_ord_list[min_index]\n",
    "z = z_list[min_index]"
   ]
  },
  {
   "cell_type": "code",
   "execution_count": null,
   "metadata": {
    "application/vnd.databricks.v1+cell": {
     "cellMetadata": {},
     "inputWidgets": {},
     "nuid": "3eafa9d3-8e97-407f-a122-ab07fca53799",
     "showTitle": false,
     "title": ""
    }
   },
   "outputs": [],
   "source": [
    "# Re-order samples\n",
    "df1 = df_gex.reindex(columns=smp_order)\n",
    "res = df1.values"
   ]
  },
  {
   "cell_type": "markdown",
   "metadata": {
    "application/vnd.databricks.v1+cell": {
     "cellMetadata": {},
     "inputWidgets": {},
     "nuid": "a2b2abf1-57a1-44c9-afc3-23d486a63e57",
     "showTitle": false,
     "title": ""
    }
   },
   "source": [
    "## Expression Curves"
   ]
  },
  {
   "cell_type": "code",
   "execution_count": null,
   "metadata": {
    "application/vnd.databricks.v1+cell": {
     "cellMetadata": {},
     "inputWidgets": {},
     "nuid": "19f2cd96-e58e-4111-8e78-9e0da9c5d041",
     "showTitle": false,
     "title": ""
    }
   },
   "outputs": [],
   "source": [
    "# Curve Fitting\n",
    "coefficients, fitted_x, errors = func.fit_polynomial(z, res)\n",
    "# Fitted curves for a few genes (indexes)\n",
    "ind = [0, 100, 500, 1000, 1250, 1500, 1750, 2000, 2250, 2500]\n",
    "func.expression_curves(ind, z, fitted_x, res)"
   ]
  },
  {
   "cell_type": "markdown",
   "metadata": {
    "application/vnd.databricks.v1+cell": {
     "cellMetadata": {},
     "inputWidgets": {},
     "nuid": "72913fc0-2025-4d8a-aec9-9006812132e7",
     "showTitle": false,
     "title": ""
    }
   },
   "source": [
    "## Sample Placement"
   ]
  },
  {
   "cell_type": "code",
   "execution_count": null,
   "metadata": {
    "application/vnd.databricks.v1+cell": {
     "cellMetadata": {},
     "inputWidgets": {},
     "nuid": "84020b90-c5dd-4568-b7c6-33296e863150",
     "showTitle": false,
     "title": ""
    }
   },
   "outputs": [],
   "source": [
    "# Pseudo ordering vector\n",
    "print(np.round(z, 2))\n",
    "func.sample_placement(z)"
   ]
  },
  {
   "cell_type": "markdown",
   "metadata": {},
   "source": [
    "# Correlation with clinical scores"
   ]
  },
  {
   "cell_type": "code",
   "execution_count": null,
   "metadata": {},
   "outputs": [],
   "source": [
    "df = pd.DataFrame({\"samples\": smp_order, \"z\": z})\n",
    "k = pd.merge(df, df_nb, on=\"samples\")\n",
    "np.corrcoef(k[\"z\"], k[\"clinical_score\"])[0, 1]"
   ]
  },
  {
   "cell_type": "markdown",
   "metadata": {},
   "source": [
    "# Output"
   ]
  },
  {
   "cell_type": "code",
   "execution_count": null,
   "metadata": {},
   "outputs": [],
   "source": [
    "df.head()\n",
    "df.to_csv(output_filename, sep=\"\\t\")"
   ]
  }
 ],
 "metadata": {
  "kernelspec": {
   "display_name": "Python 3 (ipykernel)",
   "language": "python",
   "name": "python3"
  },
  "language_info": {
   "codemirror_mode": {
    "name": "ipython",
    "version": 3
   },
   "file_extension": ".py",
   "mimetype": "text/x-python",
   "name": "python",
   "nbconvert_exporter": "python",
   "pygments_lexer": "ipython3",
   "version": "3.9.12"
  }
 },
 "nbformat": 4,
 "nbformat_minor": 4
}
